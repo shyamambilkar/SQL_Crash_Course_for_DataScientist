{
 "cells": [
  {
   "cell_type": "code",
   "execution_count": null,
   "metadata": {},
   "outputs": [],
   "source": [
    "#=============================================\n",
    "#Author:Vladimir Kurnosov\n",
    "#Create date:8Feb19\n",
    "#Description: Looks at what the characteristics of\n",
    "#the films that bring in the most revenue are.\n",
    "#============================================="
   ]
  },
  {
   "cell_type": "code",
   "execution_count": null,
   "metadata": {},
   "outputs": [],
   "source": [
    "import os\n",
    "import psycopg2\n",
    "import numpy as np\n",
    "import pandas as pd\n",
    "import random\n",
    "import sklearn\n",
    "from sklearn import tree\n",
    "%matplotlib inline\n",
    "import matplotlib\n",
    "import matplotlib.pyplot as plt\n",
    "import pydotplus\n",
    "#import StringIO\n",
    "import pyodbc\n",
    "import io"
   ]
  },
  {
   "cell_type": "code",
   "execution_count": null,
   "metadata": {},
   "outputs": [],
   "source": [
    "conn = pyodbc.connect(\"DSN=DVDRental\")\n",
    "films_all_numbers = pd.read_sql(\"SELECT * FROM total_revs_by_film_numbers_only\", conn)\n",
    "conn.close()"
   ]
  },
  {
   "cell_type": "code",
   "execution_count": null,
   "metadata": {},
   "outputs": [],
   "source": [
    "#Exploratory Data Analysis for films_all_numbers\n",
    "films_all_numbers.dtypes #review variables types"
   ]
  },
  {
   "cell_type": "code",
   "execution_count": null,
   "metadata": {},
   "outputs": [],
   "source": [
    "films_all_numbers.describe() #analysis of data"
   ]
  },
  {
   "cell_type": "code",
   "execution_count": null,
   "metadata": {},
   "outputs": [],
   "source": [
    "films_all_numbers[[\"total_revs\", \"length\"]].corr() #correlation of two variables"
   ]
  },
  {
   "cell_type": "code",
   "execution_count": null,
   "metadata": {},
   "outputs": [],
   "source": [
    "films_all_numbers.corr() #correlation of all variables"
   ]
  },
  {
   "cell_type": "code",
   "execution_count": null,
   "metadata": {},
   "outputs": [],
   "source": [
    "films_all_numbers[[\"total_revs\", \"length\"]].cov() #covariance of two variables"
   ]
  },
  {
   "cell_type": "code",
   "execution_count": null,
   "metadata": {},
   "outputs": [],
   "source": [
    "films_all_numbers.cov() #covariance of all variables"
   ]
  },
  {
   "cell_type": "code",
   "execution_count": null,
   "metadata": {},
   "outputs": [],
   "source": [
    "films_all_numbers[\"total_revs\"].hist() #histogram of total revs"
   ]
  },
  {
   "cell_type": "code",
   "execution_count": null,
   "metadata": {},
   "outputs": [],
   "source": [
    "### train on whole data\n",
    "\n",
    "#Neccessary for reproducability\n",
    "random.seed(5)\n",
    "\n",
    "#train model\n",
    "film_tree = tree.DecisionTreeRegressor(min_samples_leaf=10)\n",
    "X = films_all_numbers.drop(\"total_revs\", axis=1)\n",
    "y = films_all_numbers[\"total_revs\"]\n",
    "film_tree = film_tree.fit(X, y)"
   ]
  },
  {
   "cell_type": "code",
   "execution_count": null,
   "metadata": {},
   "outputs": [],
   "source": [
    "#get predictions and RMSE\n",
    "predictions = film_tree.predict(X)\n",
    "print(\"Error = {}\".format((np.sum((y-predictions)**2)/len(predictions))**0.5))"
   ]
  },
  {
   "cell_type": "code",
   "execution_count": null,
   "metadata": {},
   "outputs": [],
   "source": [
    "#save graphical representation to file\n",
    "#this is optional\n",
    "#if you want to do this block of code,\n",
    "#Install Graphviz and add the executable to your path varaible\n",
    "#For windows, the EXE installs in \n",
    "#C:\\Program Files (x86)\\Graphviz2.38\\bin\n",
    "#Restart Jupyter Lab\n",
    "dotfile = io.StringIO()\n",
    "tree.export_graphviz(film_tree, out_file=dotfile, feature_names = X.columns, rounded = True, proportion = False, precision = 2, filled = True)\n",
    "graph = pydotplus.graph_from_dot_data(dotfile.getvalue())\n",
    "graph.write_png(\"film_tree_plot_python.png\")\n",
    "#export_graphviz(estimator_nonlimited, out_file='tree_nonlimited.dot', feature_names = iris.feature_names,class_names = iris.target_names,rounded = True, proportion = False, precision = 2, filled = True)"
   ]
  },
  {
   "cell_type": "code",
   "execution_count": null,
   "metadata": {},
   "outputs": [],
   "source": [
    "### split to train/test dataset\n",
    "\n",
    "#Neccessary for reproducability\n",
    "random.seed(5)\n",
    "\n",
    "#split dataset\n",
    "size_test = 0.2\n",
    "is_test = np.random.rand(len(films_all_numbers)) < size_test\n",
    "films_test = films_all_numbers[is_test]\n",
    "films_train = films_all_numbers[~is_test]"
   ]
  },
  {
   "cell_type": "code",
   "execution_count": null,
   "metadata": {},
   "outputs": [],
   "source": [
    "#train model\n",
    "film_tree = tree.DecisionTreeRegressor(min_samples_leaf=20)\n",
    "X = films_train.drop(\"total_revs\", axis=1)\n",
    "y = films_train[\"total_revs\"]\n",
    "film_tree = film_tree.fit(X, y)"
   ]
  },
  {
   "cell_type": "code",
   "execution_count": null,
   "metadata": {},
   "outputs": [],
   "source": [
    "#get predictions and RMSE\n",
    "#train error\n",
    "X = films_train.drop(\"total_revs\", axis=1)\n",
    "y = films_train[\"total_revs\"]\n",
    "predictions = film_tree.predict(X)\n",
    "print(\"Train error = {}\".format((np.sum((y-predictions)**2)/len(predictions))**0.5))\n",
    "#test error\n",
    "X = films_test.drop(\"total_revs\", axis=1)\n",
    "y = films_test[\"total_revs\"]\n",
    "predictions = film_tree.predict(films_test.drop(\"total_revs\", axis=1))\n",
    "print(\"Train error = {}\".format((np.sum((y-predictions)**2)/len(predictions))**0.5))"
   ]
  }
 ],
 "metadata": {
  "kernelspec": {
   "display_name": "Python 3",
   "language": "python",
   "name": "python3"
  },
  "language_info": {
   "codemirror_mode": {
    "name": "ipython",
    "version": 3
   },
   "file_extension": ".py",
   "mimetype": "text/x-python",
   "name": "python",
   "nbconvert_exporter": "python",
   "pygments_lexer": "ipython3",
   "version": "3.7.3"
  }
 },
 "nbformat": 4,
 "nbformat_minor": 2
}
